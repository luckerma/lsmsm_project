{
 "cells": [
  {
   "cell_type": "markdown",
   "metadata": {},
   "source": [
    "# Large-scale models and simulation methods - Project\n",
    "\n",
    "## Data:\n",
    "\n",
    "[INSEE CENSUS](https://www.insee.fr/fr/statistiques/fichier/6544333/RP2019_INDCVIZB_csv.zip)\n",
    "\n",
    "[IGN](https://data.geopf.fr/telechargement/download/CONTOURS-IRIS/CONTOURS-IRIS_2-1__SHP__FRA_2021-01-01/CONTOURS-IRIS_2-1__SHP__FRA_2021-01-01.7z)\n",
    "\n",
    "[INSEE AGGREGATED](https://www.insee.fr/fr/statistiques/fichier/6543200/base-ic-evol-struct-pop-2019_csv.zip)\n",
    "\n",
    "[URSSAF](https://open.urssaf.fr/api/explore/v2.1/catalog/datasets/etablissements-et-effectifs-salaries-au-niveau-commune-x-ape-last/exports/csv?lang=fr&timezone=Europe%2FBerlin&use_labels=true&delimiter=%3B)\n"
   ]
  },
  {
   "cell_type": "code",
   "execution_count": 46,
   "metadata": {},
   "outputs": [],
   "source": [
    "from pathlib import Path\n",
    "import pandas as pd\n",
    "import pandas as pd\n",
    "import geopandas as gpd\n",
    "import plotly.express as px\n",
    "from sys import exit\n",
    "import matplotlib.pyplot as plt"
   ]
  },
  {
   "cell_type": "code",
   "execution_count": null,
   "metadata": {},
   "outputs": [],
   "source": [
    "DATA_FOLDER = Path(\"./data/\")\n",
    "CENSUS_DATA = DATA_FOLDER / \"FD_INDCVIZB_2019.csv\"\n",
    "IRIS_DATA = DATA_FOLDER / \"CONTOURS-IRIS.shp\"\n",
    "POULATION_DATA = DATA_FOLDER / \"base-ic-evol-struct-pop-2019.CSV\"\n",
    "EMPLOYMENT_DATA = (\n",
    "    DATA_FOLDER\n",
    "    / \"etablissements-et-effectifs-salaries-au-niveau-commune-x-ape-last.csv\"\n",
    ")\n",
    "\n",
    "print(\"DATA_FOLDER:\", DATA_FOLDER)\n",
    "\n",
    "if not DATA_FOLDER.exists():\n",
    "    print(\"Creating data folder\")\n",
    "    DATA_FOLDER.mkdir()\n",
    "if not CENSUS_DATA.exists():\n",
    "    print(f\"CENSUS data is missing! Please add: {CENSUS_DATA}\")\n",
    "    exit()\n",
    "if not IRIS_DATA.exists():\n",
    "    print(f\"IRIS data is missing! Please add: {IRIS_DATA}\")\n",
    "    exit()\n",
    "if not POULATION_DATA.exists():\n",
    "    print(f\"POPULATION data is missing! Please add: {POULATION_DATA}\")\n",
    "    exit()\n",
    "if not EMPLOYMENT_DATA.exists():\n",
    "    print(f\"EMPLOYMENT data is missing! Please add: {EMPLOYMENT_DATA}\")\n",
    "    exit()"
   ]
  },
  {
   "cell_type": "code",
   "execution_count": null,
   "metadata": {},
   "outputs": [],
   "source": [
    "# Census data\n",
    "\n",
    "columns = {\n",
    "    \"IRIS\": str,\n",
    "    \"IPONDI\": float,\n",
    "    \"AGED\": int,\n",
    "    \"CS1\": int,\n",
    "    \"DEPT\": int,\n",
    "}\n",
    "df_census = pd.read_csv(CENSUS_DATA, sep=\";\", dtype=columns, usecols=columns.keys())\n",
    "df_census = df_census.rename(\n",
    "    columns={\n",
    "        \"IRIS\": \"iris_id\",\n",
    "        \"IPONDI\": \"weight\",\n",
    "        \"AGED\": \"age\",\n",
    "        \"CS1\": \"csp\",\n",
    "        \"DEPT\": \"department\",\n",
    "    }\n",
    ")\n",
    "df_census = df_census[df_census[\"department\"] == 28]\n",
    "df_census = df_census.drop(columns=[\"department\"])\n",
    "\n",
    "df_census[\"department_id\"] = df_census[\"iris_id\"].str[:2]\n",
    "df_census[\"municipality_id\"] = df_census[\"iris_id\"].str[:5]\n",
    "\n",
    "municiplaities_in_department = df_census[\"municipality_id\"].unique()\n",
    "\n",
    "print(df_census.head())\n",
    "print(df_census.describe())\n",
    "print(df_census.info())"
   ]
  },
  {
   "cell_type": "code",
   "execution_count": null,
   "metadata": {},
   "outputs": [],
   "source": [
    "# Iris data\n",
    "\n",
    "df_iris: gpd.GeoDataFrame = gpd.read_file(IRIS_DATA)\n",
    "df_iris = df_iris.rename(\n",
    "    columns={\n",
    "        \"INSEE_COM\": \"municipality_id\",\n",
    "        \"CODE_IRIS\": \"iris_id\",\n",
    "    }\n",
    ")[[\"iris_id\", \"municipality_id\", \"geometry\"]]\n",
    "df_iris[\"department_id\"] = df_iris[\"iris_id\"].str[:2]\n",
    "\n",
    "print(df_iris.head())"
   ]
  },
  {
   "cell_type": "code",
   "execution_count": null,
   "metadata": {},
   "outputs": [],
   "source": [
    "# Population data\n",
    "\n",
    "columns = [\"COM\", \"C19_POP15P\"]\n",
    "columns += [\"C19_POP15P_CS{}\".format(k) for k in range(1, 9)]\n",
    "\n",
    "df_population = pd.read_csv(\n",
    "    POULATION_DATA,\n",
    "    sep=\";\",\n",
    "    usecols=columns,\n",
    "    dtype={\"COM\": str},\n",
    ")\n",
    "\n",
    "renamed_columns = [\"municipality_id\", \"population\"]\n",
    "renamed_columns += [\"csp_{}\".format(k) for k in range(1, 9)]\n",
    "df_population.columns = renamed_columns\n",
    "\n",
    "df_population = df_population.groupby(\"municipality_id\").sum().reset_index()\n",
    "\n",
    "df_population = df_population[\n",
    "    df_population[\"municipality_id\"].isin(municiplaities_in_department)\n",
    "]\n",
    "\n",
    "print(df_population.head())\n",
    "print(df_population.describe())\n",
    "print(df_population.info())"
   ]
  },
  {
   "cell_type": "code",
   "execution_count": null,
   "metadata": {},
   "outputs": [],
   "source": [
    "# Employment data\n",
    "\n",
    "df_employment = pd.read_csv(\n",
    "    EMPLOYMENT_DATA,\n",
    "    sep=\";\",\n",
    "    usecols=[\"Code commune\", \"Effectifs salariés 2019\"],\n",
    "    dtype={\"Code commune\": str},\n",
    ")\n",
    "\n",
    "df_employment = df_employment.rename(\n",
    "    columns={\"Code commune\": \"municipality_id\", \"Effectifs salariés 2019\": \"employment\"}\n",
    ")\n",
    "\n",
    "df_employment = df_employment.groupby(\"municipality_id\").sum().reset_index()\n",
    "\n",
    "df_employment = df_employment[\n",
    "    df_employment[\"municipality_id\"].isin(municiplaities_in_department)\n",
    "]\n",
    "\n",
    "print(df_employment.head())\n",
    "print(df_employment.describe())\n",
    "print(df_employment.info())"
   ]
  },
  {
   "cell_type": "markdown",
   "metadata": {},
   "source": [
    "## Exercise 1.1: Study area\n"
   ]
  },
  {
   "cell_type": "markdown",
   "metadata": {},
   "source": [
    "### (1) How many person observations are included in the census for that department?\n"
   ]
  },
  {
   "cell_type": "code",
   "execution_count": null,
   "metadata": {},
   "outputs": [],
   "source": [
    "observations = len(df_census)\n",
    "print(f\"Number of observations: {observations}\")"
   ]
  },
  {
   "cell_type": "markdown",
   "metadata": {},
   "source": [
    "### (2) How many persons live in that department?\n"
   ]
  },
  {
   "cell_type": "code",
   "execution_count": null,
   "metadata": {},
   "outputs": [],
   "source": [
    "people = df_census[\"weight\"].sum()\n",
    "print(f\"Number of people: {people}\")"
   ]
  },
  {
   "cell_type": "markdown",
   "metadata": {},
   "source": [
    "### (3) How many municipalities are there in the department?\n"
   ]
  },
  {
   "cell_type": "code",
   "execution_count": null,
   "metadata": {},
   "outputs": [],
   "source": [
    "print(f\"Municipalities: {municiplaities_in_department}\")\n",
    "print(f\"Number of municipalities: {municiplaities_in_department.size}\")"
   ]
  },
  {
   "cell_type": "markdown",
   "metadata": {},
   "source": [
    "### Prepare a map that shows where the department is located inside of France.\n"
   ]
  },
  {
   "cell_type": "code",
   "execution_count": null,
   "metadata": {},
   "outputs": [],
   "source": [
    "fig, ax = plt.subplots(figsize=(12, 10))\n",
    "df_iris.plot(ax=ax, color=\"lightgrey\", alpha=0.5)\n",
    "df_iris[df_iris[\"department_id\"] == \"28\"].plot(\n",
    "    ax=ax,\n",
    "    color=\"blue\",\n",
    ")\n",
    "\n",
    "ax.set_title(\"Departement 28 in France\")\n",
    "ax.axis(\"off\")\n",
    "\n",
    "plt.show()"
   ]
  },
  {
   "cell_type": "markdown",
   "metadata": {},
   "source": [
    "## Exercise 1.2: Territorial analysis I\n"
   ]
  },
  {
   "cell_type": "markdown",
   "metadata": {},
   "source": [
    "### Plot the age distribution of the persons living in the department. Indicate the average age of persons living in the territory.\n"
   ]
  },
  {
   "cell_type": "code",
   "execution_count": null,
   "metadata": {},
   "outputs": [],
   "source": [
    "weighted_counts = (\n",
    "    df_census.groupby(\"age\")[\"weight\"]\n",
    "    .sum()\n",
    "    .reset_index()\n",
    "    .rename(columns={\"weight\": \"weighted_count\"})\n",
    ")\n",
    "\n",
    "weighted_avg_age = (\n",
    "    weighted_counts[\"age\"] * weighted_counts[\"weighted_count\"]\n",
    ").sum() / weighted_counts[\"weighted_count\"].sum()\n",
    "\n",
    "fig = px.bar(\n",
    "    weighted_counts,\n",
    "    x=\"age\",\n",
    "    y=\"weighted_count\",\n",
    "    title=\"Age Distribution\",\n",
    ")\n",
    "fig.add_vline(\n",
    "    x=weighted_avg_age,\n",
    "    line_dash=\"dash\",\n",
    "    line_color=\"red\",\n",
    "    annotation_text=f\"Avg. age: {weighted_avg_age:.2f}\",\n",
    "    annotation_position=\"top\",\n",
    ")\n",
    "fig.show()\n",
    "\n",
    "print(f\"Avg. age: {weighted_avg_age:.2f}\")"
   ]
  },
  {
   "cell_type": "markdown",
   "metadata": {},
   "source": [
    "### Make a map of the municipalities in the study area and indicate the average age of their population. Which municipality is the youngest, which one is the oldest?\n"
   ]
  },
  {
   "cell_type": "code",
   "execution_count": null,
   "metadata": {},
   "outputs": [],
   "source": [
    "spatial_municipalities = df_iris.dissolve(by=\"municipality_id\").reset_index()\n",
    "\n",
    "df_census_grouped = (\n",
    "    df_census.groupby(\"municipality_id\")\n",
    "    .apply(\n",
    "        lambda x: pd.Series(\n",
    "            {\n",
    "                \"total_weight\": x[\"weight\"].sum(),\n",
    "                \"avg_age\": (\n",
    "                    (x[\"age\"] * x[\"weight\"]).sum() / x[\"weight\"].sum()\n",
    "                    if x[\"weight\"].sum() > 0\n",
    "                    else 0\n",
    "                ),\n",
    "            }\n",
    "        )\n",
    "    )\n",
    "    .reset_index()\n",
    ")\n",
    "\n",
    "spatial_data = spatial_municipalities.merge(\n",
    "    df_census_grouped, on=\"municipality_id\", how=\"left\"\n",
    ")\n",
    "\n",
    "fig, ax = plt.subplots(figsize=(12, 8))\n",
    "spatial_data.plot(\n",
    "    column=\"avg_age\",\n",
    "    cmap=\"viridis\",\n",
    "    legend=True,\n",
    "    ax=ax,\n",
    "    legend_kwds={\"label\": \"Average Age\"},\n",
    ")\n",
    "ax.set_title(\"Average Age of Population by Municipality\")\n",
    "ax.set_axis_off()\n",
    "\n",
    "plt.show()\n",
    "\n",
    "youngest = spatial_data.loc[spatial_data[\"avg_age\"].idxmin()]\n",
    "oldest = spatial_data.loc[spatial_data[\"avg_age\"].idxmax()]\n",
    "print(\n",
    "    f\"Youngest Municipality: ID {youngest['municipality_id']} with Avg Age {youngest['avg_age']:.2f}\"\n",
    ")\n",
    "print(\n",
    "    f\"Oldest Municipality: ID {oldest['municipality_id']} with Avg Age {oldest['avg_age']:.2f}\"\n",
    ")"
   ]
  },
  {
   "cell_type": "markdown",
   "metadata": {},
   "source": [
    "### Plot the distribution of socio-professional categories of the overall study area and for at least three individual municipalities. Describe if you see differences between municipalities and the study area in general.\n"
   ]
  },
  {
   "cell_type": "code",
   "execution_count": null,
   "metadata": {},
   "outputs": [],
   "source": [
    "def plot_csp_distribution(df_census: pd.DataFrame, title: str = \"CSP Distribution\"):\n",
    "    df_csp = df_census.groupby(\"csp\")[\"weight\"].sum().reset_index()\n",
    "\n",
    "    df_csp[\"csp\"] = df_csp[\"csp\"].replace(\n",
    "        {\n",
    "            1: \"Agriculteurs\",\n",
    "            2: \"Artisans\",\n",
    "            3: \"Cadres\",\n",
    "            4: \"Intermédiaires\",\n",
    "            5: \"Employés\",\n",
    "            6: \"Ouvriers\",\n",
    "            7: \"Retraités\",\n",
    "            8: \"Autres\",\n",
    "        }\n",
    "    )\n",
    "\n",
    "    fig = px.histogram(df_csp, x=\"csp\", y=\"weight\", title=title).update_xaxes(\n",
    "        categoryorder=\"total descending\"\n",
    "    )\n",
    "    fig.show()\n",
    "\n",
    "\n",
    "plot_csp_distribution(\n",
    "    df_census,\n",
    "    title=\"CSP Distribution - Departement '28'\",\n",
    ")\n",
    "for municipality_id in df_census[\"municipality_id\"].unique():\n",
    "    plot_csp_distribution(\n",
    "        df_census[df_census[\"municipality_id\"] == municipality_id],\n",
    "        title=f\"CSP Distribution - Municipality '{municipality_id}'\",\n",
    "    )"
   ]
  },
  {
   "cell_type": "markdown",
   "metadata": {},
   "source": [
    "## Exercise 1.3: Territorial analysis II\n"
   ]
  },
  {
   "cell_type": "markdown",
   "metadata": {},
   "source": [
    "### Create a bar plot indicating the number of working inhabitants in each municipality.\n"
   ]
  },
  {
   "cell_type": "code",
   "execution_count": null,
   "metadata": {},
   "outputs": [],
   "source": [
    "working_csp = [1, 2, 3, 4, 5, 6]\n",
    "df_working = df_census[df_census[\"csp\"].isin(working_csp)]\n",
    "\n",
    "working_by_municipality = (\n",
    "    df_working.groupby(\"municipality_id\")[\"weight\"]\n",
    "    .sum()\n",
    "    .reset_index()\n",
    "    .rename(columns={\"weight\": \"working_population\"})\n",
    ")\n",
    "\n",
    "fig = px.bar(\n",
    "    working_by_municipality,\n",
    "    x=\"municipality_id\",\n",
    "    y=\"working_population\",\n",
    "    title=\"Working Population by Municipality\",\n",
    ").update_xaxes(categoryorder=\"total descending\")\n",
    "fig.show()"
   ]
  },
  {
   "cell_type": "markdown",
   "metadata": {},
   "source": [
    "### Create a bar plot indicating the number of employees in each municipality\n"
   ]
  },
  {
   "cell_type": "code",
   "execution_count": null,
   "metadata": {},
   "outputs": [],
   "source": [
    "fig = px.bar(\n",
    "    df_employment,\n",
    "    x=\"municipality_id\",\n",
    "    y=\"employment\",\n",
    "    title=\"Number of Employees by Municipality\",\n",
    ").update_xaxes(categoryorder=\"total descending\")\n",
    "fig.show()"
   ]
  },
  {
   "cell_type": "markdown",
   "metadata": {},
   "source": [
    "### Make a map of the study area which, for each municipality, shows the difference between working inhabitants and employees. Which municipality the largest net outflow (inhabitants - employees), which one the largest net inflow of employees?\n"
   ]
  },
  {
   "cell_type": "code",
   "execution_count": null,
   "metadata": {},
   "outputs": [],
   "source": [
    "df_combined = df_employment.merge(working_by_municipality, on=\"municipality_id\")\n",
    "df_combined[\"net_difference\"] = (\n",
    "    df_combined[\"working_population\"] - df_combined[\"employment\"]\n",
    ")\n",
    "\n",
    "spatial_data = spatial_municipalities.merge(\n",
    "    df_combined, on=\"municipality_id\", how=\"left\"\n",
    ")\n",
    "fig, ax = plt.subplots(figsize=(12, 8))\n",
    "spatial_data.plot(\n",
    "    column=\"net_difference\",\n",
    "    cmap=\"coolwarm\",\n",
    "    legend=True,\n",
    "    ax=ax,\n",
    "    legend_kwds={\"label\": \"Net Difference\"},\n",
    ")\n",
    "ax.set_title(\"Net Difference of Working Population and Employees by Municipality\")\n",
    "ax.set_axis_off()\n",
    "\n",
    "plt.show()\n",
    "\n",
    "largest_deficit = spatial_data.loc[spatial_data[\"net_difference\"].idxmin()]\n",
    "largest_surplus = spatial_data.loc[spatial_data[\"net_difference\"].idxmax()]\n",
    "\n",
    "print(\n",
    "    f\"Largest Deficit Municipality: ID {largest_deficit['municipality_id']} with Net Difference {largest_deficit['net_difference']}\"\n",
    ")\n",
    "print(\n",
    "    f\"Largest Surplus Municipality: ID {largest_surplus['municipality_id']} with Net Difference {largest_surplus['net_difference']}\"\n",
    ")"
   ]
  }
 ],
 "metadata": {
  "kernelspec": {
   "display_name": "lsmsm",
   "language": "python",
   "name": "python3"
  },
  "language_info": {
   "codemirror_mode": {
    "name": "ipython",
    "version": 3
   },
   "file_extension": ".py",
   "mimetype": "text/x-python",
   "name": "python",
   "nbconvert_exporter": "python",
   "pygments_lexer": "ipython3",
   "version": "3.11.11"
  }
 },
 "nbformat": 4,
 "nbformat_minor": 2
}
